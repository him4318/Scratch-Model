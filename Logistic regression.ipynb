{
 "cells": [
  {
   "cell_type": "code",
   "execution_count": 2,
   "metadata": {},
   "outputs": [],
   "source": [
    "import numpy as np\n",
    "from sklearn.datasets import load_breast_cancer\n",
    "import matplotlib.pyplot as plt"
   ]
  },
  {
   "cell_type": "code",
   "execution_count": 8,
   "metadata": {
    "scrolled": true
   },
   "outputs": [],
   "source": [
    "cancer = load_breast_cancer()\n",
    "\n",
    "x = np.column_stack((cancer.data,np.ones(len(cancer.data))))\n",
    "y = cancer.target"
   ]
  },
  {
   "cell_type": "code",
   "execution_count": 92,
   "metadata": {},
   "outputs": [],
   "source": [
    "learning_rate = .000001;\n",
    "num_iteration = 1000;\n"
   ]
  },
  {
   "cell_type": "code",
   "execution_count": 61,
   "metadata": {},
   "outputs": [],
   "source": [
    "def sigmoid(X,theta):\n",
    "    return (np.exp(np.dot(X,theta))/(1.0 + np.exp(np.dot(X,theta))))"
   ]
  },
  {
   "cell_type": "code",
   "execution_count": 93,
   "metadata": {
    "scrolled": true
   },
   "outputs": [],
   "source": [
    "theta = np.zeros(np.shape(x)[1],dtype=int)\n",
    "\n",
    "def gradientDescent(X,y,theta,num_iteration,alpha):\n",
    "    \n",
    "    cost = np.zeros(num_iteration)\n",
    "    for i in range(num_iteration):\n",
    "        for j in range(np.shape(X)[0]):\n",
    "            pred = (np.exp(np.dot(theta.T, X[j]))/(1.0 + np.exp(np.dot(theta.T, X[j]))))\n",
    "#             print(pred)\n",
    "            gradient = np.dot(X[j] , (pred - y[j]))\n",
    "            theta = theta - (alpha*gradient)\n",
    "        cost[i] = log_loss(y,np.round(sigmoid(X,theta),2))\n",
    "\n",
    "    return theta,cost\n",
    "\n",
    "#running the gd and cost function\n",
    "g,cost = gradientDescent(x,y,theta,2000,learning_rate)\n"
   ]
  },
  {
   "cell_type": "code",
   "execution_count": 94,
   "metadata": {},
   "outputs": [
    {
     "data": {
      "image/png": "[encoded data removed]",
      "text/plain": [
       "<Figure size 432x288 with 1 Axes>"
      ]
     },
     "metadata": {},
     "output_type": "display_data"
    }
   ],
   "source": [
    "plt.plot(range(len(cost)),cost)\n",
    "plt.xlabel(\"No of iteration\")\n",
    "plt.ylabel(\"Cost\")\n",
    "plt.show()"
   ]
  },
  {
   "cell_type": "code",
   "execution_count": 97,
   "metadata": {
    "scrolled": true
   },
   "outputs": [
    {
     "data": {
      "text/plain": [
       "array([0.  , 0.  , 0.  , 0.96, 0.  , 0.6 , 0.  , 0.05, 0.73, 0.33, 0.  ,\n",
       "       0.  , 0.02, 0.87, 0.98, 0.1 , 0.  , 0.  , 0.  , 0.96, 0.99, 1.  ,\n",
       "       0.5 , 0.  , 0.  , 0.  , 0.51, 0.  , 0.  , 0.04, 0.  , 0.01, 0.  ,\n",
       "       0.  , 0.  , 0.  , 0.86, 1.  , 0.88, 0.89, 0.4 , 0.9 , 0.  , 0.04,\n",
       "       0.74, 0.  , 0.99, 0.6 , 0.97, 0.87, 0.97, 0.99, 0.99, 0.  , 0.02,\n",
       "       0.98, 0.  , 0.03, 0.96, 1.  , 0.99, 0.98, 0.04, 0.99, 0.01, 0.16,\n",
       "       0.98, 0.99, 0.99, 0.99, 0.  , 1.  , 0.  , 0.79, 0.95, 0.  , 1.  ,\n",
       "       0.  , 0.  , 0.97, 0.92, 0.99, 0.  , 0.05, 0.97, 0.  , 0.72, 0.  ,\n",
       "       0.96, 0.93, 0.72, 0.92, 0.22, 0.9 , 0.07, 0.  , 1.  , 0.98, 0.99,\n",
       "       0.69, 0.01, 0.99, 0.95, 0.99, 0.99, 0.32, 0.97, 0.99, 0.  , 0.94,\n",
       "       0.99, 1.  , 0.99, 1.  , 1.  , 0.9 , 1.  , 0.01, 0.  , 0.01, 0.99,\n",
       "       0.  , 0.  , 0.99, 0.99, 0.94, 0.15, 0.  , 0.99, 0.  , 1.  , 0.  ,\n",
       "       0.  , 0.86, 0.  , 0.78, 0.94, 0.99, 0.04, 1.  , 1.  , 0.  , 0.97,\n",
       "       0.98, 0.99, 1.  , 0.94, 0.9 , 0.98, 0.92, 0.96, 0.98, 0.98, 1.  ,\n",
       "       0.96, 0.97, 0.  , 0.34, 0.99, 0.99, 0.94, 0.  , 0.  , 0.97, 0.  ,\n",
       "       0.95, 1.  , 0.  , 0.  , 0.95, 1.  , 0.  , 0.05, 1.  , 0.99, 1.  ,\n",
       "       0.98, 0.77, 0.96, 0.99, 0.  , 0.  , 0.  , 1.  , 0.18, 0.96, 0.  ,\n",
       "       0.98, 0.99, 0.99, 0.78, 0.96, 1.  , 0.05, 0.98, 0.99, 0.34, 0.02,\n",
       "       0.  , 0.01, 0.77, 0.04, 0.  , 0.  , 0.77, 0.27, 1.  , 0.01, 0.98,\n",
       "       0.75, 0.  , 0.96, 0.  , 0.64, 0.61, 0.9 , 0.98, 0.98, 0.  , 0.  ,\n",
       "       0.98, 0.99, 0.99, 0.03, 0.87, 0.51, 1.  , 0.98, 0.89, 0.8 , 0.07,\n",
       "       0.98, 0.85, 0.  , 0.99, 0.91, 0.  , 0.  , 0.58, 0.  , 0.97, 0.99,\n",
       "       0.99, 0.87, 0.  , 0.98, 0.98, 0.99, 0.91, 0.99, 0.  , 0.97, 0.  ,\n",
       "       0.03, 0.  , 0.64, 0.  , 0.61, 0.  , 0.02, 0.  , 0.01, 0.  , 0.17,\n",
       "       0.  , 0.  , 0.99, 0.95, 0.98, 0.99, 0.99, 1.  , 0.  , 0.99, 0.  ,\n",
       "       0.99, 0.99, 0.16, 0.79, 0.99, 0.  , 0.97, 0.  , 0.56, 0.99, 0.98,\n",
       "       0.98, 1.  , 0.99, 0.99, 0.83, 0.93, 0.99, 0.98, 1.  , 0.99, 1.  ,\n",
       "       0.9 , 0.71, 0.99, 0.  , 0.99, 0.  , 1.  , 0.99, 0.98, 0.98, 1.  ,\n",
       "       0.96, 0.93, 0.99, 0.69, 0.98, 1.  , 0.99, 0.99, 1.  , 0.  , 0.99,\n",
       "       0.99, 0.99, 0.  , 0.99, 0.  , 0.98, 0.99, 0.95, 0.99, 0.03, 0.46,\n",
       "       0.19, 0.98, 0.99, 0.98, 0.98, 0.  , 1.  , 0.  , 0.98, 0.  , 0.66,\n",
       "       0.99, 1.  , 0.  , 0.99, 1.  , 0.95, 0.76, 0.99, 1.  , 0.96, 0.86,\n",
       "       0.  , 0.  , 0.99, 0.99, 0.99, 0.96, 0.99, 0.82, 0.97, 0.97, 0.98,\n",
       "       0.47, 0.97, 0.  , 0.  , 0.92, 0.  , 0.  , 0.01, 0.97, 0.05, 0.  ,\n",
       "       0.99, 0.99, 1.  , 0.84, 0.99, 0.97, 0.99, 0.99, 1.  , 0.98, 1.  ,\n",
       "       0.87, 1.  , 0.91, 1.  , 0.05, 1.  , 0.97, 0.  , 0.  , 0.97, 0.98,\n",
       "       0.96, 0.99, 0.98, 0.94, 0.05, 0.96, 0.98, 0.99, 0.99, 0.97, 0.87,\n",
       "       0.84, 0.  , 0.87, 0.91, 0.98, 0.99, 0.58, 0.06, 0.98, 0.94, 0.  ,\n",
       "       1.  , 0.98, 0.97, 0.96, 1.  , 0.95, 0.96, 0.98, 0.99, 0.91, 1.  ,\n",
       "       0.98, 0.97, 1.  , 0.01, 0.  , 0.96, 0.31, 0.96, 0.9 , 0.78, 0.99,\n",
       "       0.99, 0.  , 0.97, 1.  , 0.02, 0.98, 0.  , 0.88, 0.73, 0.  , 0.98,\n",
       "       0.  , 0.94, 0.98, 0.95, 0.47, 0.85, 0.91, 0.9 , 0.95, 0.  , 0.  ,\n",
       "       0.9 , 0.99, 0.91, 0.91, 0.91, 0.97, 0.  , 0.98, 0.96, 0.77, 0.69,\n",
       "       0.78, 1.  , 0.99, 0.63, 0.97, 1.  , 0.94, 0.98, 0.36, 0.99, 0.96,\n",
       "       0.99, 0.99, 0.8 , 0.  , 0.97, 0.22, 0.82, 0.08, 0.  , 0.99, 0.93,\n",
       "       0.93, 0.97, 0.97, 0.  , 0.  , 0.87, 0.55, 0.99, 0.  , 1.  , 1.  ,\n",
       "       0.99, 1.  , 0.92, 0.58, 1.  , 0.98, 0.22, 0.73, 0.1 , 0.99, 0.  ,\n",
       "       0.  , 0.9 , 0.97, 0.99, 0.  , 0.99, 0.94, 0.99, 1.  , 0.92, 0.99,\n",
       "       0.99, 0.99, 0.94, 0.94, 0.83, 0.  , 1.  , 0.  , 0.95, 0.98, 0.92,\n",
       "       0.96, 1.  , 0.84, 0.62, 0.91, 0.97, 0.71, 0.99, 1.  , 0.98, 0.81,\n",
       "       0.99, 0.99, 0.9 , 0.99, 0.93, 0.98, 1.  , 0.93, 0.98, 0.97, 0.9 ,\n",
       "       0.94, 0.53, 0.  , 0.  , 0.  , 0.02, 0.  , 0.89])"
      ]
     },
     "execution_count": 97,
     "metadata": {},
     "output_type": "execute_result"
    }
   ],
   "source": [
    "np.round(sigmoid(x,g),2)"
   ]
  },
  {
   "cell_type": "code",
   "execution_count": null,
   "metadata": {},
   "outputs": [],
   "source": []
  }
 ],
 "metadata": {
  "kernelspec": {
   "display_name": "Python 3",
   "language": "python",
   "name": "python3"
  },
  "language_info": {
   "codemirror_mode": {
    "name": "ipython",
    "version": 3
   },
   "file_extension": ".py",
   "mimetype": "text/x-python",
   "name": "python",
   "nbconvert_exporter": "python",
   "pygments_lexer": "ipython3",
   "version": "3.6.5"
  }
 },
 "nbformat": 4,
 "nbformat_minor": 2
}
